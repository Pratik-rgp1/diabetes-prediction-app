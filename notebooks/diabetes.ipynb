{
 "cells": [
  {
   "cell_type": "code",
   "execution_count": 2,
   "metadata": {
    "colab": {
     "base_uri": "https://localhost:8080/"
    },
    "id": "VSftSh4_H2WY",
    "outputId": "3abb6213-0075-493f-8661-696672f2c27e"
   },
   "outputs": [
    {
     "name": "stdout",
     "output_type": "stream",
     "text": [
      "Downloading from https://www.kaggle.com/api/v1/datasets/download/iammustafatz/diabetes-prediction-dataset?dataset_version_number=1...\n"
     ]
    },
    {
     "name": "stderr",
     "output_type": "stream",
     "text": [
      "100%|████████████████████████████████████████████████████████████████████████████████| 734k/734k [00:01<00:00, 393kB/s]"
     ]
    },
    {
     "name": "stdout",
     "output_type": "stream",
     "text": [
      "Extracting files...\n",
      "Path to dataset files: C:\\Users\\Ishwari kafle\\.cache\\kagglehub\\datasets\\iammustafatz\\diabetes-prediction-dataset\\versions\\1\n"
     ]
    },
    {
     "name": "stderr",
     "output_type": "stream",
     "text": [
      "\n"
     ]
    }
   ],
   "source": [
    "import kagglehub\n",
    "\n",
    "# Download latest version\n",
    "path = kagglehub.dataset_download(\"iammustafatz/diabetes-prediction-dataset\")\n",
    "\n",
    "print(\"Path to dataset files:\", path)"
   ]
  },
  {
   "cell_type": "code",
   "execution_count": 1,
   "metadata": {
    "id": "0GO-Q7iqFbv9"
   },
   "outputs": [],
   "source": [
    "import pandas as pd\n",
    "import numpy as np\n",
    "import matplotlib.pyplot as plt\n",
    "import seaborn as sns"
   ]
  },
  {
   "cell_type": "code",
   "execution_count": 2,
   "metadata": {
    "colab": {
     "base_uri": "https://localhost:8080/",
     "height": 226
    },
    "id": "0DczfDJ0HFd8",
    "outputId": "c7ad96b4-42bf-4f1d-f48a-1ff3e4db988a"
   },
   "outputs": [
    {
     "data": {
      "text/html": [
       "<div>\n",
       "<style scoped>\n",
       "    .dataframe tbody tr th:only-of-type {\n",
       "        vertical-align: middle;\n",
       "    }\n",
       "\n",
       "    .dataframe tbody tr th {\n",
       "        vertical-align: top;\n",
       "    }\n",
       "\n",
       "    .dataframe thead th {\n",
       "        text-align: right;\n",
       "    }\n",
       "</style>\n",
       "<table border=\"1\" class=\"dataframe\">\n",
       "  <thead>\n",
       "    <tr style=\"text-align: right;\">\n",
       "      <th></th>\n",
       "      <th>gender</th>\n",
       "      <th>age</th>\n",
       "      <th>hypertension</th>\n",
       "      <th>heart_disease</th>\n",
       "      <th>smoking_history</th>\n",
       "      <th>bmi</th>\n",
       "      <th>HbA1c_level</th>\n",
       "      <th>blood_glucose_level</th>\n",
       "      <th>diabetes</th>\n",
       "    </tr>\n",
       "  </thead>\n",
       "  <tbody>\n",
       "    <tr>\n",
       "      <th>0</th>\n",
       "      <td>Female</td>\n",
       "      <td>80.0</td>\n",
       "      <td>0</td>\n",
       "      <td>1</td>\n",
       "      <td>never</td>\n",
       "      <td>25.19</td>\n",
       "      <td>6.6</td>\n",
       "      <td>140</td>\n",
       "      <td>0</td>\n",
       "    </tr>\n",
       "    <tr>\n",
       "      <th>1</th>\n",
       "      <td>Female</td>\n",
       "      <td>54.0</td>\n",
       "      <td>0</td>\n",
       "      <td>0</td>\n",
       "      <td>No Info</td>\n",
       "      <td>27.32</td>\n",
       "      <td>6.6</td>\n",
       "      <td>80</td>\n",
       "      <td>0</td>\n",
       "    </tr>\n",
       "    <tr>\n",
       "      <th>2</th>\n",
       "      <td>Male</td>\n",
       "      <td>28.0</td>\n",
       "      <td>0</td>\n",
       "      <td>0</td>\n",
       "      <td>never</td>\n",
       "      <td>27.32</td>\n",
       "      <td>5.7</td>\n",
       "      <td>158</td>\n",
       "      <td>0</td>\n",
       "    </tr>\n",
       "    <tr>\n",
       "      <th>3</th>\n",
       "      <td>Female</td>\n",
       "      <td>36.0</td>\n",
       "      <td>0</td>\n",
       "      <td>0</td>\n",
       "      <td>current</td>\n",
       "      <td>23.45</td>\n",
       "      <td>5.0</td>\n",
       "      <td>155</td>\n",
       "      <td>0</td>\n",
       "    </tr>\n",
       "    <tr>\n",
       "      <th>4</th>\n",
       "      <td>Male</td>\n",
       "      <td>76.0</td>\n",
       "      <td>1</td>\n",
       "      <td>1</td>\n",
       "      <td>current</td>\n",
       "      <td>20.14</td>\n",
       "      <td>4.8</td>\n",
       "      <td>155</td>\n",
       "      <td>0</td>\n",
       "    </tr>\n",
       "  </tbody>\n",
       "</table>\n",
       "</div>"
      ],
      "text/plain": [
       "   gender   age  hypertension  heart_disease smoking_history    bmi  \\\n",
       "0  Female  80.0             0              1           never  25.19   \n",
       "1  Female  54.0             0              0         No Info  27.32   \n",
       "2    Male  28.0             0              0           never  27.32   \n",
       "3  Female  36.0             0              0         current  23.45   \n",
       "4    Male  76.0             1              1         current  20.14   \n",
       "\n",
       "   HbA1c_level  blood_glucose_level  diabetes  \n",
       "0          6.6                  140         0  \n",
       "1          6.6                   80         0  \n",
       "2          5.7                  158         0  \n",
       "3          5.0                  155         0  \n",
       "4          4.8                  155         0  "
      ]
     },
     "execution_count": 2,
     "metadata": {},
     "output_type": "execute_result"
    }
   ],
   "source": [
    "diabetes = pd.read_csv('../data/diabetes_prediction_dataset.csv')\n",
    "diabetes.head()"
   ]
  },
  {
   "cell_type": "code",
   "execution_count": 3,
   "metadata": {
    "colab": {
     "base_uri": "https://localhost:8080/"
    },
    "id": "DvinPlhxHSzz",
    "outputId": "8f4cc333-af77-4951-adbe-219d8687a8c0"
   },
   "outputs": [
    {
     "name": "stdout",
     "output_type": "stream",
     "text": [
      "<class 'pandas.core.frame.DataFrame'>\n",
      "RangeIndex: 100000 entries, 0 to 99999\n",
      "Data columns (total 9 columns):\n",
      " #   Column               Non-Null Count   Dtype  \n",
      "---  ------               --------------   -----  \n",
      " 0   gender               100000 non-null  object \n",
      " 1   age                  100000 non-null  float64\n",
      " 2   hypertension         100000 non-null  int64  \n",
      " 3   heart_disease        100000 non-null  int64  \n",
      " 4   smoking_history      100000 non-null  object \n",
      " 5   bmi                  100000 non-null  float64\n",
      " 6   HbA1c_level          100000 non-null  float64\n",
      " 7   blood_glucose_level  100000 non-null  int64  \n",
      " 8   diabetes             100000 non-null  int64  \n",
      "dtypes: float64(3), int64(4), object(2)\n",
      "memory usage: 6.9+ MB\n"
     ]
    }
   ],
   "source": [
    "diabetes.info()"
   ]
  },
  {
   "cell_type": "code",
   "execution_count": 4,
   "metadata": {
    "colab": {
     "base_uri": "https://localhost:8080/",
     "height": 320
    },
    "id": "4BbNzHtWIODc",
    "outputId": "8de9abf8-81f1-4d92-e6cf-197eb99d8d94"
   },
   "outputs": [
    {
     "data": {
      "text/html": [
       "<div>\n",
       "<style scoped>\n",
       "    .dataframe tbody tr th:only-of-type {\n",
       "        vertical-align: middle;\n",
       "    }\n",
       "\n",
       "    .dataframe tbody tr th {\n",
       "        vertical-align: top;\n",
       "    }\n",
       "\n",
       "    .dataframe thead th {\n",
       "        text-align: right;\n",
       "    }\n",
       "</style>\n",
       "<table border=\"1\" class=\"dataframe\">\n",
       "  <thead>\n",
       "    <tr style=\"text-align: right;\">\n",
       "      <th></th>\n",
       "      <th>age</th>\n",
       "      <th>hypertension</th>\n",
       "      <th>heart_disease</th>\n",
       "      <th>bmi</th>\n",
       "      <th>HbA1c_level</th>\n",
       "      <th>blood_glucose_level</th>\n",
       "      <th>diabetes</th>\n",
       "    </tr>\n",
       "  </thead>\n",
       "  <tbody>\n",
       "    <tr>\n",
       "      <th>count</th>\n",
       "      <td>100000.000000</td>\n",
       "      <td>100000.00000</td>\n",
       "      <td>100000.000000</td>\n",
       "      <td>100000.000000</td>\n",
       "      <td>100000.000000</td>\n",
       "      <td>100000.000000</td>\n",
       "      <td>100000.000000</td>\n",
       "    </tr>\n",
       "    <tr>\n",
       "      <th>mean</th>\n",
       "      <td>41.885856</td>\n",
       "      <td>0.07485</td>\n",
       "      <td>0.039420</td>\n",
       "      <td>27.320767</td>\n",
       "      <td>5.527507</td>\n",
       "      <td>138.058060</td>\n",
       "      <td>0.085000</td>\n",
       "    </tr>\n",
       "    <tr>\n",
       "      <th>std</th>\n",
       "      <td>22.516840</td>\n",
       "      <td>0.26315</td>\n",
       "      <td>0.194593</td>\n",
       "      <td>6.636783</td>\n",
       "      <td>1.070672</td>\n",
       "      <td>40.708136</td>\n",
       "      <td>0.278883</td>\n",
       "    </tr>\n",
       "    <tr>\n",
       "      <th>min</th>\n",
       "      <td>0.080000</td>\n",
       "      <td>0.00000</td>\n",
       "      <td>0.000000</td>\n",
       "      <td>10.010000</td>\n",
       "      <td>3.500000</td>\n",
       "      <td>80.000000</td>\n",
       "      <td>0.000000</td>\n",
       "    </tr>\n",
       "    <tr>\n",
       "      <th>25%</th>\n",
       "      <td>24.000000</td>\n",
       "      <td>0.00000</td>\n",
       "      <td>0.000000</td>\n",
       "      <td>23.630000</td>\n",
       "      <td>4.800000</td>\n",
       "      <td>100.000000</td>\n",
       "      <td>0.000000</td>\n",
       "    </tr>\n",
       "    <tr>\n",
       "      <th>50%</th>\n",
       "      <td>43.000000</td>\n",
       "      <td>0.00000</td>\n",
       "      <td>0.000000</td>\n",
       "      <td>27.320000</td>\n",
       "      <td>5.800000</td>\n",
       "      <td>140.000000</td>\n",
       "      <td>0.000000</td>\n",
       "    </tr>\n",
       "    <tr>\n",
       "      <th>75%</th>\n",
       "      <td>60.000000</td>\n",
       "      <td>0.00000</td>\n",
       "      <td>0.000000</td>\n",
       "      <td>29.580000</td>\n",
       "      <td>6.200000</td>\n",
       "      <td>159.000000</td>\n",
       "      <td>0.000000</td>\n",
       "    </tr>\n",
       "    <tr>\n",
       "      <th>max</th>\n",
       "      <td>80.000000</td>\n",
       "      <td>1.00000</td>\n",
       "      <td>1.000000</td>\n",
       "      <td>95.690000</td>\n",
       "      <td>9.000000</td>\n",
       "      <td>300.000000</td>\n",
       "      <td>1.000000</td>\n",
       "    </tr>\n",
       "  </tbody>\n",
       "</table>\n",
       "</div>"
      ],
      "text/plain": [
       "                 age  hypertension  heart_disease            bmi  \\\n",
       "count  100000.000000  100000.00000  100000.000000  100000.000000   \n",
       "mean       41.885856       0.07485       0.039420      27.320767   \n",
       "std        22.516840       0.26315       0.194593       6.636783   \n",
       "min         0.080000       0.00000       0.000000      10.010000   \n",
       "25%        24.000000       0.00000       0.000000      23.630000   \n",
       "50%        43.000000       0.00000       0.000000      27.320000   \n",
       "75%        60.000000       0.00000       0.000000      29.580000   \n",
       "max        80.000000       1.00000       1.000000      95.690000   \n",
       "\n",
       "         HbA1c_level  blood_glucose_level       diabetes  \n",
       "count  100000.000000        100000.000000  100000.000000  \n",
       "mean        5.527507           138.058060       0.085000  \n",
       "std         1.070672            40.708136       0.278883  \n",
       "min         3.500000            80.000000       0.000000  \n",
       "25%         4.800000           100.000000       0.000000  \n",
       "50%         5.800000           140.000000       0.000000  \n",
       "75%         6.200000           159.000000       0.000000  \n",
       "max         9.000000           300.000000       1.000000  "
      ]
     },
     "execution_count": 4,
     "metadata": {},
     "output_type": "execute_result"
    }
   ],
   "source": [
    "diabetes.describe()"
   ]
  },
  {
   "cell_type": "code",
   "execution_count": 5,
   "metadata": {
    "colab": {
     "base_uri": "https://localhost:8080/",
     "height": 366
    },
    "id": "0OLSN7-VJElO",
    "outputId": "f2f25187-25c1-40aa-ace9-25ec3b0ce132"
   },
   "outputs": [
    {
     "data": {
      "text/plain": [
       "gender                 0\n",
       "age                    0\n",
       "hypertension           0\n",
       "heart_disease          0\n",
       "smoking_history        0\n",
       "bmi                    0\n",
       "HbA1c_level            0\n",
       "blood_glucose_level    0\n",
       "diabetes               0\n",
       "dtype: int64"
      ]
     },
     "execution_count": 5,
     "metadata": {},
     "output_type": "execute_result"
    }
   ],
   "source": [
    "diabetes.isnull().sum()"
   ]
  },
  {
   "cell_type": "code",
   "execution_count": 6,
   "metadata": {
    "colab": {
     "base_uri": "https://localhost:8080/"
    },
    "id": "0w3qpaW4JPAs",
    "outputId": "1d1d6027-9b80-4881-acb8-abbc56c4279e"
   },
   "outputs": [
    {
     "name": "stdout",
     "output_type": "stream",
     "text": [
      "   gender  diabetes  count\n",
      "0  Female         0  54091\n",
      "1  Female         1   4461\n",
      "2    Male         0  37391\n",
      "3    Male         1   4039\n",
      "4   Other         0     18\n"
     ]
    }
   ],
   "source": [
    "gender_diabetes_counts = diabetes.groupby(['gender', 'diabetes']).size().reset_index(name='count')\n",
    "print(gender_diabetes_counts)"
   ]
  },
  {
   "cell_type": "markdown",
   "metadata": {
    "id": "kPsdvZE1LeUL"
   },
   "source": [
    " distribution of diabetic vs non-diabetic patients by proportion as a total"
   ]
  },
  {
   "cell_type": "code",
   "execution_count": 7,
   "metadata": {
    "colab": {
     "base_uri": "https://localhost:8080/",
     "height": 178
    },
    "id": "TQP5fv-YJcxO",
    "outputId": "4f31b2fa-1609-4000-804c-401d696bf860"
   },
   "outputs": [
    {
     "data": {
      "text/plain": [
       "diabetes\n",
       "0    0.915\n",
       "1    0.085\n",
       "Name: proportion, dtype: float64"
      ]
     },
     "execution_count": 7,
     "metadata": {},
     "output_type": "execute_result"
    }
   ],
   "source": [
    "diabetes['diabetes'].value_counts(True)"
   ]
  },
  {
   "cell_type": "markdown",
   "metadata": {
    "id": "1YDBeXo-L8Vz"
   },
   "source": [
    "Here, 91.5% are non diabetes patients and 8.5 % are diabetes patients."
   ]
  },
  {
   "cell_type": "code",
   "execution_count": 8,
   "metadata": {
    "id": "VdnIdnekLmyk"
   },
   "outputs": [],
   "source": [
    "# drop the rows having gender = other\n",
    "diabetes = diabetes.drop(diabetes[diabetes['gender'] == 'Other'].index)"
   ]
  },
  {
   "cell_type": "code",
   "execution_count": 9,
   "metadata": {
    "colab": {
     "base_uri": "https://localhost:8080/",
     "height": 178
    },
    "id": "3h5yN4Y_Mn6I",
    "outputId": "01e64b5c-62d1-4f0a-95f9-a346dde84494"
   },
   "outputs": [
    {
     "data": {
      "text/plain": [
       "diabetes\n",
       "0    0.914985\n",
       "1    0.085015\n",
       "Name: proportion, dtype: float64"
      ]
     },
     "execution_count": 9,
     "metadata": {},
     "output_type": "execute_result"
    }
   ],
   "source": [
    "diabetes['diabetes'].value_counts(True)"
   ]
  },
  {
   "cell_type": "markdown",
   "metadata": {
    "id": "6854c28b"
   },
   "source": [
    "After dropping irrelevant columns from the dataset \"diabetes_prediction_dataset.csv\", preprocess the data by handling categorical features, scaling numerical features, splitting the data into training and testing sets, and addressing class imbalance. Then, choose and train a suitable machine learning model for binary classification, evaluate its performance, and summarize the findings."
   ]
  },
  {
   "cell_type": "markdown",
   "metadata": {
    "id": "c0622963"
   },
   "source": [
    "## Handle categorical features\n",
    "\n",
    "Convert categorical columns like 'gender' and 'smoking_history' into numerical representations using one-hot encoding or other appropriate techniques.\n"
   ]
  },
  {
   "cell_type": "markdown",
   "metadata": {
    "id": "3d824998"
   },
   "source": [
    "Identify and one-hot encode the categorical columns 'gender' and 'smoking_history' in the `diabetes` DataFrame.\n"
   ]
  },
  {
   "cell_type": "code",
   "execution_count": 10,
   "metadata": {
    "colab": {
     "base_uri": "https://localhost:8080/",
     "height": 244
    },
    "id": "2f498d76",
    "outputId": "d2ce0d56-0026-491f-f6e0-bf971604ad96"
   },
   "outputs": [
    {
     "data": {
      "text/html": [
       "<div>\n",
       "<style scoped>\n",
       "    .dataframe tbody tr th:only-of-type {\n",
       "        vertical-align: middle;\n",
       "    }\n",
       "\n",
       "    .dataframe tbody tr th {\n",
       "        vertical-align: top;\n",
       "    }\n",
       "\n",
       "    .dataframe thead th {\n",
       "        text-align: right;\n",
       "    }\n",
       "</style>\n",
       "<table border=\"1\" class=\"dataframe\">\n",
       "  <thead>\n",
       "    <tr style=\"text-align: right;\">\n",
       "      <th></th>\n",
       "      <th>age</th>\n",
       "      <th>hypertension</th>\n",
       "      <th>heart_disease</th>\n",
       "      <th>bmi</th>\n",
       "      <th>HbA1c_level</th>\n",
       "      <th>blood_glucose_level</th>\n",
       "      <th>diabetes</th>\n",
       "      <th>gender_Male</th>\n",
       "      <th>smoking_history_current</th>\n",
       "      <th>smoking_history_ever</th>\n",
       "      <th>smoking_history_former</th>\n",
       "      <th>smoking_history_never</th>\n",
       "      <th>smoking_history_not current</th>\n",
       "    </tr>\n",
       "  </thead>\n",
       "  <tbody>\n",
       "    <tr>\n",
       "      <th>0</th>\n",
       "      <td>80.0</td>\n",
       "      <td>0</td>\n",
       "      <td>1</td>\n",
       "      <td>25.19</td>\n",
       "      <td>6.6</td>\n",
       "      <td>140</td>\n",
       "      <td>0</td>\n",
       "      <td>False</td>\n",
       "      <td>False</td>\n",
       "      <td>False</td>\n",
       "      <td>False</td>\n",
       "      <td>True</td>\n",
       "      <td>False</td>\n",
       "    </tr>\n",
       "    <tr>\n",
       "      <th>1</th>\n",
       "      <td>54.0</td>\n",
       "      <td>0</td>\n",
       "      <td>0</td>\n",
       "      <td>27.32</td>\n",
       "      <td>6.6</td>\n",
       "      <td>80</td>\n",
       "      <td>0</td>\n",
       "      <td>False</td>\n",
       "      <td>False</td>\n",
       "      <td>False</td>\n",
       "      <td>False</td>\n",
       "      <td>False</td>\n",
       "      <td>False</td>\n",
       "    </tr>\n",
       "    <tr>\n",
       "      <th>2</th>\n",
       "      <td>28.0</td>\n",
       "      <td>0</td>\n",
       "      <td>0</td>\n",
       "      <td>27.32</td>\n",
       "      <td>5.7</td>\n",
       "      <td>158</td>\n",
       "      <td>0</td>\n",
       "      <td>True</td>\n",
       "      <td>False</td>\n",
       "      <td>False</td>\n",
       "      <td>False</td>\n",
       "      <td>True</td>\n",
       "      <td>False</td>\n",
       "    </tr>\n",
       "    <tr>\n",
       "      <th>3</th>\n",
       "      <td>36.0</td>\n",
       "      <td>0</td>\n",
       "      <td>0</td>\n",
       "      <td>23.45</td>\n",
       "      <td>5.0</td>\n",
       "      <td>155</td>\n",
       "      <td>0</td>\n",
       "      <td>False</td>\n",
       "      <td>True</td>\n",
       "      <td>False</td>\n",
       "      <td>False</td>\n",
       "      <td>False</td>\n",
       "      <td>False</td>\n",
       "    </tr>\n",
       "    <tr>\n",
       "      <th>4</th>\n",
       "      <td>76.0</td>\n",
       "      <td>1</td>\n",
       "      <td>1</td>\n",
       "      <td>20.14</td>\n",
       "      <td>4.8</td>\n",
       "      <td>155</td>\n",
       "      <td>0</td>\n",
       "      <td>True</td>\n",
       "      <td>True</td>\n",
       "      <td>False</td>\n",
       "      <td>False</td>\n",
       "      <td>False</td>\n",
       "      <td>False</td>\n",
       "    </tr>\n",
       "  </tbody>\n",
       "</table>\n",
       "</div>"
      ],
      "text/plain": [
       "    age  hypertension  heart_disease    bmi  HbA1c_level  blood_glucose_level  \\\n",
       "0  80.0             0              1  25.19          6.6                  140   \n",
       "1  54.0             0              0  27.32          6.6                   80   \n",
       "2  28.0             0              0  27.32          5.7                  158   \n",
       "3  36.0             0              0  23.45          5.0                  155   \n",
       "4  76.0             1              1  20.14          4.8                  155   \n",
       "\n",
       "   diabetes  gender_Male  smoking_history_current  smoking_history_ever  \\\n",
       "0         0        False                    False                 False   \n",
       "1         0        False                    False                 False   \n",
       "2         0         True                    False                 False   \n",
       "3         0        False                     True                 False   \n",
       "4         0         True                     True                 False   \n",
       "\n",
       "   smoking_history_former  smoking_history_never  smoking_history_not current  \n",
       "0                   False                   True                        False  \n",
       "1                   False                  False                        False  \n",
       "2                   False                   True                        False  \n",
       "3                   False                  False                        False  \n",
       "4                   False                  False                        False  "
      ]
     },
     "metadata": {},
     "output_type": "display_data"
    }
   ],
   "source": [
    "categorical_cols = ['gender', 'smoking_history']\n",
    "diabetes_encoded = pd.get_dummies(diabetes, columns=categorical_cols, drop_first=True)\n",
    "display(diabetes_encoded.head())"
   ]
  },
  {
   "cell_type": "markdown",
   "metadata": {
    "id": "a0a61c01"
   },
   "source": [
    "## Scale numerical features\n",
    "\n",
    "Scale numerical features like 'age', 'bmi', 'HbA1c_level', and 'blood_glucose_level' to ensure that they have similar ranges, which can improve the performance of some machine learning models.\n"
   ]
  },
  {
   "cell_type": "markdown",
   "metadata": {
    "id": "b14e6c89"
   },
   "source": [
    "Identify and scale the numerical features using StandardScaler."
   ]
  },
  {
   "cell_type": "code",
   "execution_count": 11,
   "metadata": {
    "colab": {
     "base_uri": "https://localhost:8080/",
     "height": 244
    },
    "id": "63cdbb1b",
    "outputId": "97ab3f57-336f-4f3a-a870-21820bc4ca6f"
   },
   "outputs": [
    {
     "data": {
      "text/html": [
       "<div>\n",
       "<style scoped>\n",
       "    .dataframe tbody tr th:only-of-type {\n",
       "        vertical-align: middle;\n",
       "    }\n",
       "\n",
       "    .dataframe tbody tr th {\n",
       "        vertical-align: top;\n",
       "    }\n",
       "\n",
       "    .dataframe thead th {\n",
       "        text-align: right;\n",
       "    }\n",
       "</style>\n",
       "<table border=\"1\" class=\"dataframe\">\n",
       "  <thead>\n",
       "    <tr style=\"text-align: right;\">\n",
       "      <th></th>\n",
       "      <th>age</th>\n",
       "      <th>hypertension</th>\n",
       "      <th>heart_disease</th>\n",
       "      <th>bmi</th>\n",
       "      <th>HbA1c_level</th>\n",
       "      <th>blood_glucose_level</th>\n",
       "      <th>diabetes</th>\n",
       "      <th>gender_Male</th>\n",
       "      <th>smoking_history_current</th>\n",
       "      <th>smoking_history_ever</th>\n",
       "      <th>smoking_history_former</th>\n",
       "      <th>smoking_history_never</th>\n",
       "      <th>smoking_history_not current</th>\n",
       "    </tr>\n",
       "  </thead>\n",
       "  <tbody>\n",
       "    <tr>\n",
       "      <th>0</th>\n",
       "      <td>1.692577</td>\n",
       "      <td>0</td>\n",
       "      <td>1</td>\n",
       "      <td>-0.321051</td>\n",
       "      <td>1.001692</td>\n",
       "      <td>0.047709</td>\n",
       "      <td>0</td>\n",
       "      <td>False</td>\n",
       "      <td>False</td>\n",
       "      <td>False</td>\n",
       "      <td>False</td>\n",
       "      <td>True</td>\n",
       "      <td>False</td>\n",
       "    </tr>\n",
       "    <tr>\n",
       "      <th>1</th>\n",
       "      <td>0.537899</td>\n",
       "      <td>0</td>\n",
       "      <td>0</td>\n",
       "      <td>-0.000114</td>\n",
       "      <td>1.001692</td>\n",
       "      <td>-1.426157</td>\n",
       "      <td>0</td>\n",
       "      <td>False</td>\n",
       "      <td>False</td>\n",
       "      <td>False</td>\n",
       "      <td>False</td>\n",
       "      <td>False</td>\n",
       "      <td>False</td>\n",
       "    </tr>\n",
       "    <tr>\n",
       "      <th>2</th>\n",
       "      <td>-0.616779</td>\n",
       "      <td>0</td>\n",
       "      <td>0</td>\n",
       "      <td>-0.000114</td>\n",
       "      <td>0.161089</td>\n",
       "      <td>0.489869</td>\n",
       "      <td>0</td>\n",
       "      <td>True</td>\n",
       "      <td>False</td>\n",
       "      <td>False</td>\n",
       "      <td>False</td>\n",
       "      <td>True</td>\n",
       "      <td>False</td>\n",
       "    </tr>\n",
       "    <tr>\n",
       "      <th>3</th>\n",
       "      <td>-0.261494</td>\n",
       "      <td>0</td>\n",
       "      <td>0</td>\n",
       "      <td>-0.583225</td>\n",
       "      <td>-0.492714</td>\n",
       "      <td>0.416175</td>\n",
       "      <td>0</td>\n",
       "      <td>False</td>\n",
       "      <td>True</td>\n",
       "      <td>False</td>\n",
       "      <td>False</td>\n",
       "      <td>False</td>\n",
       "      <td>False</td>\n",
       "    </tr>\n",
       "    <tr>\n",
       "      <th>4</th>\n",
       "      <td>1.514935</td>\n",
       "      <td>1</td>\n",
       "      <td>1</td>\n",
       "      <td>-1.081957</td>\n",
       "      <td>-0.679515</td>\n",
       "      <td>0.416175</td>\n",
       "      <td>0</td>\n",
       "      <td>True</td>\n",
       "      <td>True</td>\n",
       "      <td>False</td>\n",
       "      <td>False</td>\n",
       "      <td>False</td>\n",
       "      <td>False</td>\n",
       "    </tr>\n",
       "  </tbody>\n",
       "</table>\n",
       "</div>"
      ],
      "text/plain": [
       "        age  hypertension  heart_disease       bmi  HbA1c_level  \\\n",
       "0  1.692577             0              1 -0.321051     1.001692   \n",
       "1  0.537899             0              0 -0.000114     1.001692   \n",
       "2 -0.616779             0              0 -0.000114     0.161089   \n",
       "3 -0.261494             0              0 -0.583225    -0.492714   \n",
       "4  1.514935             1              1 -1.081957    -0.679515   \n",
       "\n",
       "   blood_glucose_level  diabetes  gender_Male  smoking_history_current  \\\n",
       "0             0.047709         0        False                    False   \n",
       "1            -1.426157         0        False                    False   \n",
       "2             0.489869         0         True                    False   \n",
       "3             0.416175         0        False                     True   \n",
       "4             0.416175         0         True                     True   \n",
       "\n",
       "   smoking_history_ever  smoking_history_former  smoking_history_never  \\\n",
       "0                 False                   False                   True   \n",
       "1                 False                   False                  False   \n",
       "2                 False                   False                   True   \n",
       "3                 False                   False                  False   \n",
       "4                 False                   False                  False   \n",
       "\n",
       "   smoking_history_not current  \n",
       "0                        False  \n",
       "1                        False  \n",
       "2                        False  \n",
       "3                        False  \n",
       "4                        False  "
      ]
     },
     "metadata": {},
     "output_type": "display_data"
    }
   ],
   "source": [
    "from sklearn.preprocessing import StandardScaler\n",
    "\n",
    "numerical_cols = ['age', 'bmi', 'HbA1c_level', 'blood_glucose_level']\n",
    "scaler = StandardScaler()\n",
    "diabetes_encoded[numerical_cols] = scaler.fit_transform(diabetes_encoded[numerical_cols])\n",
    "display(diabetes_encoded.head())"
   ]
  },
  {
   "cell_type": "markdown",
   "metadata": {
    "id": "e4f6d2a8"
   },
   "source": [
    "## Split the data\n",
    "\n",
    "Split the dataset into training and testing sets to evaluate the performance of your model.\n"
   ]
  },
  {
   "cell_type": "markdown",
   "metadata": {
    "id": "0092fab2"
   },
   "source": [
    "Split the data into features (X) and target variable (y), then split these into training and testing sets.\n",
    "\n"
   ]
  },
  {
   "cell_type": "code",
   "execution_count": 12,
   "metadata": {
    "colab": {
     "base_uri": "https://localhost:8080/"
    },
    "id": "835db07b",
    "outputId": "9d096712-5160-4015-a991-8c5b0c5c00c5"
   },
   "outputs": [
    {
     "name": "stdout",
     "output_type": "stream",
     "text": [
      "Shape of X_train: (79985, 12)\n",
      "Shape of X_test: (19997, 12)\n",
      "Shape of y_train: (79985,)\n",
      "Shape of y_test: (19997,)\n"
     ]
    }
   ],
   "source": [
    "from sklearn.model_selection import train_test_split\n",
    "\n",
    "X = diabetes_encoded.drop('diabetes', axis=1)\n",
    "y = diabetes_encoded['diabetes']\n",
    "\n",
    "X_train, X_test, y_train, y_test = train_test_split(X, y, test_size=0.2, random_state=42)\n",
    "\n",
    "print(\"Shape of X_train:\", X_train.shape)\n",
    "print(\"Shape of X_test:\", X_test.shape)\n",
    "print(\"Shape of y_train:\", y_train.shape)\n",
    "print(\"Shape of y_test:\", y_test.shape)"
   ]
  },
  {
   "cell_type": "markdown",
   "metadata": {
    "id": "1bde37e9"
   },
   "source": [
    "## Address class imbalance\n",
    "\n",
    "Since the 'diabetes' column is imbalanced, consider techniques like oversampling or undersampling to balance the classes in the training set.\n"
   ]
  },
  {
   "cell_type": "markdown",
   "metadata": {
    "id": "0c289911"
   },
   "source": [
    "Check the distribution of the target variable in the training set to understand the class imbalance.\n",
    "\n"
   ]
  },
  {
   "cell_type": "code",
   "execution_count": 13,
   "metadata": {
    "colab": {
     "base_uri": "https://localhost:8080/"
    },
    "id": "47325909",
    "outputId": "57af906b-80a7-4383-f5fb-4ff9b98736ac"
   },
   "outputs": [
    {
     "name": "stdout",
     "output_type": "stream",
     "text": [
      "Class distribution in y_train:\n",
      "diabetes\n",
      "0    73260\n",
      "1     6725\n",
      "Name: count, dtype: int64\n",
      "\n",
      "Class distribution in y_train (proportion):\n",
      "diabetes\n",
      "0    0.915922\n",
      "1    0.084078\n",
      "Name: proportion, dtype: float64\n"
     ]
    }
   ],
   "source": [
    "print(\"Class distribution in y_train:\")\n",
    "print(y_train.value_counts())\n",
    "print(\"\\nClass distribution in y_train (proportion):\")\n",
    "print(y_train.value_counts(normalize=True))"
   ]
  },
  {
   "cell_type": "markdown",
   "metadata": {
    "id": "981f487a"
   },
   "source": [
    "Import and apply RandomOverSampler to balance the training data and then verify the class distribution of the resampled target variable.\n",
    "\n"
   ]
  },
  {
   "cell_type": "code",
   "execution_count": 14,
   "metadata": {
    "colab": {
     "base_uri": "https://localhost:8080/"
    },
    "id": "61196f40",
    "outputId": "2d35f832-c62a-4897-b6d5-4b65b8cbf274"
   },
   "outputs": [
    {
     "name": "stdout",
     "output_type": "stream",
     "text": [
      "Class distribution in y_train_resampled:\n",
      "diabetes\n",
      "0    73260\n",
      "1    73260\n",
      "Name: count, dtype: int64\n",
      "\n",
      "Class distribution in y_train_resampled (proportion):\n",
      "diabetes\n",
      "0    0.5\n",
      "1    0.5\n",
      "Name: proportion, dtype: float64\n"
     ]
    }
   ],
   "source": [
    "from imblearn.over_sampling import RandomOverSampler\n",
    "\n",
    "ros = RandomOverSampler(random_state=42)\n",
    "X_train_resampled, y_train_resampled = ros.fit_resample(X_train, y_train)\n",
    "\n",
    "print(\"Class distribution in y_train_resampled:\")\n",
    "print(y_train_resampled.value_counts())\n",
    "print(\"\\nClass distribution in y_train_resampled (proportion):\")\n",
    "print(y_train_resampled.value_counts(normalize=True))"
   ]
  },
  {
   "cell_type": "markdown",
   "metadata": {
    "id": "d9e39f49"
   },
   "source": [
    "## Choose and train a model\n",
    "\n",
    "Select a suitable machine learning model for binary classification (e.g., Logistic Regression, RandomForest, SVM) and train it on the preprocessed training data.\n"
   ]
  },
  {
   "cell_type": "markdown",
   "metadata": {
    "id": "a85d37c1"
   },
   "source": [
    "Import and train a Logistic Regression model on the resampled training data.\n",
    "\n"
   ]
  },
  {
   "cell_type": "code",
   "execution_count": 15,
   "metadata": {
    "colab": {
     "base_uri": "https://localhost:8080/",
     "height": 80
    },
    "id": "77ba1d7b",
    "outputId": "f5851b0d-462d-4359-bbf5-64b2550dd05b"
   },
   "outputs": [
    {
     "data": {
      "text/html": [
       "<style>#sk-container-id-1 {color: black;background-color: white;}#sk-container-id-1 pre{padding: 0;}#sk-container-id-1 div.sk-toggleable {background-color: white;}#sk-container-id-1 label.sk-toggleable__label {cursor: pointer;display: block;width: 100%;margin-bottom: 0;padding: 0.3em;box-sizing: border-box;text-align: center;}#sk-container-id-1 label.sk-toggleable__label-arrow:before {content: \"▸\";float: left;margin-right: 0.25em;color: #696969;}#sk-container-id-1 label.sk-toggleable__label-arrow:hover:before {color: black;}#sk-container-id-1 div.sk-estimator:hover label.sk-toggleable__label-arrow:before {color: black;}#sk-container-id-1 div.sk-toggleable__content {max-height: 0;max-width: 0;overflow: hidden;text-align: left;background-color: #f0f8ff;}#sk-container-id-1 div.sk-toggleable__content pre {margin: 0.2em;color: black;border-radius: 0.25em;background-color: #f0f8ff;}#sk-container-id-1 input.sk-toggleable__control:checked~div.sk-toggleable__content {max-height: 200px;max-width: 100%;overflow: auto;}#sk-container-id-1 input.sk-toggleable__control:checked~label.sk-toggleable__label-arrow:before {content: \"▾\";}#sk-container-id-1 div.sk-estimator input.sk-toggleable__control:checked~label.sk-toggleable__label {background-color: #d4ebff;}#sk-container-id-1 div.sk-label input.sk-toggleable__control:checked~label.sk-toggleable__label {background-color: #d4ebff;}#sk-container-id-1 input.sk-hidden--visually {border: 0;clip: rect(1px 1px 1px 1px);clip: rect(1px, 1px, 1px, 1px);height: 1px;margin: -1px;overflow: hidden;padding: 0;position: absolute;width: 1px;}#sk-container-id-1 div.sk-estimator {font-family: monospace;background-color: #f0f8ff;border: 1px dotted black;border-radius: 0.25em;box-sizing: border-box;margin-bottom: 0.5em;}#sk-container-id-1 div.sk-estimator:hover {background-color: #d4ebff;}#sk-container-id-1 div.sk-parallel-item::after {content: \"\";width: 100%;border-bottom: 1px solid gray;flex-grow: 1;}#sk-container-id-1 div.sk-label:hover label.sk-toggleable__label {background-color: #d4ebff;}#sk-container-id-1 div.sk-serial::before {content: \"\";position: absolute;border-left: 1px solid gray;box-sizing: border-box;top: 0;bottom: 0;left: 50%;z-index: 0;}#sk-container-id-1 div.sk-serial {display: flex;flex-direction: column;align-items: center;background-color: white;padding-right: 0.2em;padding-left: 0.2em;position: relative;}#sk-container-id-1 div.sk-item {position: relative;z-index: 1;}#sk-container-id-1 div.sk-parallel {display: flex;align-items: stretch;justify-content: center;background-color: white;position: relative;}#sk-container-id-1 div.sk-item::before, #sk-container-id-1 div.sk-parallel-item::before {content: \"\";position: absolute;border-left: 1px solid gray;box-sizing: border-box;top: 0;bottom: 0;left: 50%;z-index: -1;}#sk-container-id-1 div.sk-parallel-item {display: flex;flex-direction: column;z-index: 1;position: relative;background-color: white;}#sk-container-id-1 div.sk-parallel-item:first-child::after {align-self: flex-end;width: 50%;}#sk-container-id-1 div.sk-parallel-item:last-child::after {align-self: flex-start;width: 50%;}#sk-container-id-1 div.sk-parallel-item:only-child::after {width: 0;}#sk-container-id-1 div.sk-dashed-wrapped {border: 1px dashed gray;margin: 0 0.4em 0.5em 0.4em;box-sizing: border-box;padding-bottom: 0.4em;background-color: white;}#sk-container-id-1 div.sk-label label {font-family: monospace;font-weight: bold;display: inline-block;line-height: 1.2em;}#sk-container-id-1 div.sk-label-container {text-align: center;}#sk-container-id-1 div.sk-container {/* jupyter's `normalize.less` sets `[hidden] { display: none; }` but bootstrap.min.css set `[hidden] { display: none !important; }` so we also need the `!important` here to be able to override the default hidden behavior on the sphinx rendered scikit-learn.org. See: https://github.com/scikit-learn/scikit-learn/issues/21755 */display: inline-block !important;position: relative;}#sk-container-id-1 div.sk-text-repr-fallback {display: none;}</style><div id=\"sk-container-id-1\" class=\"sk-top-container\"><div class=\"sk-text-repr-fallback\"><pre>LogisticRegression(random_state=42)</pre><b>In a Jupyter environment, please rerun this cell to show the HTML representation or trust the notebook. <br />On GitHub, the HTML representation is unable to render, please try loading this page with nbviewer.org.</b></div><div class=\"sk-container\" hidden><div class=\"sk-item\"><div class=\"sk-estimator sk-toggleable\"><input class=\"sk-toggleable__control sk-hidden--visually\" id=\"sk-estimator-id-1\" type=\"checkbox\" checked><label for=\"sk-estimator-id-1\" class=\"sk-toggleable__label sk-toggleable__label-arrow\">LogisticRegression</label><div class=\"sk-toggleable__content\"><pre>LogisticRegression(random_state=42)</pre></div></div></div></div></div>"
      ],
      "text/plain": [
       "LogisticRegression(random_state=42)"
      ]
     },
     "execution_count": 15,
     "metadata": {},
     "output_type": "execute_result"
    }
   ],
   "source": [
    "from sklearn.linear_model import LogisticRegression\n",
    "\n",
    "model = LogisticRegression(random_state=42)\n",
    "model.fit(X_train_resampled, y_train_resampled)"
   ]
  },
  {
   "cell_type": "markdown",
   "metadata": {
    "id": "ab49e180"
   },
   "source": [
    "## Evaluate the model\n",
    "\n",
    "Evaluate the trained model on the testing set using appropriate metrics like accuracy, precision, recall, and F1-score.\n"
   ]
  },
  {
   "cell_type": "markdown",
   "metadata": {
    "id": "53b680b2"
   },
   "source": [
    "Evaluate the trained Logistic Regression model on the test set using accuracy, precision, recall, and F1-score.\n",
    "\n"
   ]
  },
  {
   "cell_type": "code",
   "execution_count": 16,
   "metadata": {
    "colab": {
     "base_uri": "https://localhost:8080/"
    },
    "id": "2ddcd673",
    "outputId": "25674e91-d540-4661-aec5-750d721fc0e0"
   },
   "outputs": [
    {
     "name": "stdout",
     "output_type": "stream",
     "text": [
      "Accuracy: 0.8892\n",
      "Precision: 0.4386\n",
      "Recall: 0.8879\n",
      "F1-score: 0.5872\n"
     ]
    }
   ],
   "source": [
    "\n",
    "\n",
    "from sklearn.metrics import accuracy_score, precision_recall_fscore_support\n",
    "\n",
    "y_pred = model.predict(X_test)\n",
    "\n",
    "accuracy = accuracy_score(y_test, y_pred)\n",
    "precision, recall, f1_score, _ = precision_recall_fscore_support(y_test, y_pred, average='binary')\n",
    "\n",
    "print(f\"Accuracy: {accuracy:.4f}\")\n",
    "print(f\"Precision: {precision:.4f}\")\n",
    "print(f\"Recall: {recall:.4f}\")\n",
    "print(f\"F1-score: {f1_score:.4f}\")"
   ]
  },
  {
   "cell_type": "markdown",
   "metadata": {
    "id": "a7838664"
   },
   "source": [
    "### Key Findings\n",
    "\n",
    "*   Categorical features ('gender', 'smoking\\_history') were successfully converted into numerical representations using one-hot encoding.\n",
    "*   Numerical features ('age', 'bmi', 'HbA1c\\_level', 'blood\\_glucose\\_level') were scaled using StandardScaler.\n",
    "*   The dataset was split into training (80%) and testing (20%) sets.\n",
    "*   The training set showed a significant class imbalance, with approximately 91.6% non-diabetic and 8.4% diabetic cases.\n",
    "*   Random Over-Sampling was applied to the training data, resulting in a balanced class distribution with approximately 50% for each class.\n",
    "*   A Logistic Regression model was trained on the resampled training data.\n",
    "*   The trained model achieved an accuracy of 0.8893, a precision of 0.4390, a recall of 0.8885, and an F1-score of 0.5877 on the test set.\n",
    "\n",
    "### Insights or Next Steps\n",
    "\n",
    "*   The high recall score indicates the model is effective at identifying diabetic cases, which is crucial in medical diagnosis, but the low precision suggests a significant number of false positives.\n",
    "*   Further model tuning or exploring other classification algorithms (e.g., RandomForest, Gradient Boosting) could potentially improve precision while maintaining a high recall.\n"
   ]
  },
  {
   "cell_type": "markdown",
   "metadata": {
    "id": "769f9f58"
   },
   "source": [
    "## Choose and train a RandomForest model\n",
    "\n",
    "Train a RandomForest Classifier on the preprocessed and resampled training data."
   ]
  },
  {
   "cell_type": "markdown",
   "metadata": {
    "id": "bf95d1dd"
   },
   "source": [
    "Import and train a RandomForest Classifier model on the resampled training data."
   ]
  },
  {
   "cell_type": "code",
   "execution_count": 17,
   "metadata": {
    "colab": {
     "base_uri": "https://localhost:8080/",
     "height": 80
    },
    "id": "72f4d793",
    "outputId": "31c8d22e-bf56-4d3a-c5ef-ae3a12ef30f7"
   },
   "outputs": [
    {
     "data": {
      "text/html": [
       "<style>#sk-container-id-2 {color: black;background-color: white;}#sk-container-id-2 pre{padding: 0;}#sk-container-id-2 div.sk-toggleable {background-color: white;}#sk-container-id-2 label.sk-toggleable__label {cursor: pointer;display: block;width: 100%;margin-bottom: 0;padding: 0.3em;box-sizing: border-box;text-align: center;}#sk-container-id-2 label.sk-toggleable__label-arrow:before {content: \"▸\";float: left;margin-right: 0.25em;color: #696969;}#sk-container-id-2 label.sk-toggleable__label-arrow:hover:before {color: black;}#sk-container-id-2 div.sk-estimator:hover label.sk-toggleable__label-arrow:before {color: black;}#sk-container-id-2 div.sk-toggleable__content {max-height: 0;max-width: 0;overflow: hidden;text-align: left;background-color: #f0f8ff;}#sk-container-id-2 div.sk-toggleable__content pre {margin: 0.2em;color: black;border-radius: 0.25em;background-color: #f0f8ff;}#sk-container-id-2 input.sk-toggleable__control:checked~div.sk-toggleable__content {max-height: 200px;max-width: 100%;overflow: auto;}#sk-container-id-2 input.sk-toggleable__control:checked~label.sk-toggleable__label-arrow:before {content: \"▾\";}#sk-container-id-2 div.sk-estimator input.sk-toggleable__control:checked~label.sk-toggleable__label {background-color: #d4ebff;}#sk-container-id-2 div.sk-label input.sk-toggleable__control:checked~label.sk-toggleable__label {background-color: #d4ebff;}#sk-container-id-2 input.sk-hidden--visually {border: 0;clip: rect(1px 1px 1px 1px);clip: rect(1px, 1px, 1px, 1px);height: 1px;margin: -1px;overflow: hidden;padding: 0;position: absolute;width: 1px;}#sk-container-id-2 div.sk-estimator {font-family: monospace;background-color: #f0f8ff;border: 1px dotted black;border-radius: 0.25em;box-sizing: border-box;margin-bottom: 0.5em;}#sk-container-id-2 div.sk-estimator:hover {background-color: #d4ebff;}#sk-container-id-2 div.sk-parallel-item::after {content: \"\";width: 100%;border-bottom: 1px solid gray;flex-grow: 1;}#sk-container-id-2 div.sk-label:hover label.sk-toggleable__label {background-color: #d4ebff;}#sk-container-id-2 div.sk-serial::before {content: \"\";position: absolute;border-left: 1px solid gray;box-sizing: border-box;top: 0;bottom: 0;left: 50%;z-index: 0;}#sk-container-id-2 div.sk-serial {display: flex;flex-direction: column;align-items: center;background-color: white;padding-right: 0.2em;padding-left: 0.2em;position: relative;}#sk-container-id-2 div.sk-item {position: relative;z-index: 1;}#sk-container-id-2 div.sk-parallel {display: flex;align-items: stretch;justify-content: center;background-color: white;position: relative;}#sk-container-id-2 div.sk-item::before, #sk-container-id-2 div.sk-parallel-item::before {content: \"\";position: absolute;border-left: 1px solid gray;box-sizing: border-box;top: 0;bottom: 0;left: 50%;z-index: -1;}#sk-container-id-2 div.sk-parallel-item {display: flex;flex-direction: column;z-index: 1;position: relative;background-color: white;}#sk-container-id-2 div.sk-parallel-item:first-child::after {align-self: flex-end;width: 50%;}#sk-container-id-2 div.sk-parallel-item:last-child::after {align-self: flex-start;width: 50%;}#sk-container-id-2 div.sk-parallel-item:only-child::after {width: 0;}#sk-container-id-2 div.sk-dashed-wrapped {border: 1px dashed gray;margin: 0 0.4em 0.5em 0.4em;box-sizing: border-box;padding-bottom: 0.4em;background-color: white;}#sk-container-id-2 div.sk-label label {font-family: monospace;font-weight: bold;display: inline-block;line-height: 1.2em;}#sk-container-id-2 div.sk-label-container {text-align: center;}#sk-container-id-2 div.sk-container {/* jupyter's `normalize.less` sets `[hidden] { display: none; }` but bootstrap.min.css set `[hidden] { display: none !important; }` so we also need the `!important` here to be able to override the default hidden behavior on the sphinx rendered scikit-learn.org. See: https://github.com/scikit-learn/scikit-learn/issues/21755 */display: inline-block !important;position: relative;}#sk-container-id-2 div.sk-text-repr-fallback {display: none;}</style><div id=\"sk-container-id-2\" class=\"sk-top-container\"><div class=\"sk-text-repr-fallback\"><pre>RandomForestClassifier(random_state=42)</pre><b>In a Jupyter environment, please rerun this cell to show the HTML representation or trust the notebook. <br />On GitHub, the HTML representation is unable to render, please try loading this page with nbviewer.org.</b></div><div class=\"sk-container\" hidden><div class=\"sk-item\"><div class=\"sk-estimator sk-toggleable\"><input class=\"sk-toggleable__control sk-hidden--visually\" id=\"sk-estimator-id-2\" type=\"checkbox\" checked><label for=\"sk-estimator-id-2\" class=\"sk-toggleable__label sk-toggleable__label-arrow\">RandomForestClassifier</label><div class=\"sk-toggleable__content\"><pre>RandomForestClassifier(random_state=42)</pre></div></div></div></div></div>"
      ],
      "text/plain": [
       "RandomForestClassifier(random_state=42)"
      ]
     },
     "execution_count": 17,
     "metadata": {},
     "output_type": "execute_result"
    }
   ],
   "source": [
    "from sklearn.ensemble import RandomForestClassifier\n",
    "\n",
    "rf_model = RandomForestClassifier(random_state=42)\n",
    "rf_model.fit(X_train_resampled, y_train_resampled)"
   ]
  },
  {
   "cell_type": "markdown",
   "metadata": {
    "id": "fc967804"
   },
   "source": [
    "## Evaluate the RandomForest model\n",
    "\n",
    "Evaluate the trained RandomForest Classifier on the testing set using appropriate metrics."
   ]
  },
  {
   "cell_type": "markdown",
   "metadata": {
    "id": "ee9449f6"
   },
   "source": [
    "Evaluate the trained RandomForest Classifier model on the test set using accuracy, precision, recall, and F1-score."
   ]
  },
  {
   "cell_type": "code",
   "execution_count": 18,
   "metadata": {
    "colab": {
     "base_uri": "https://localhost:8080/"
    },
    "id": "25cbf5d0",
    "outputId": "4d4954b5-b79b-4d00-db51-e84d3b9a06bb"
   },
   "outputs": [
    {
     "name": "stdout",
     "output_type": "stream",
     "text": [
      "RandomForest Accuracy: 0.9643\n",
      "RandomForest Precision: 0.8598\n",
      "RandomForest Recall: 0.7149\n",
      "RandomForest F1-score: 0.7807\n"
     ]
    }
   ],
   "source": [
    "from sklearn.metrics import accuracy_score, precision_recall_fscore_support\n",
    "\n",
    "y_pred_rf = rf_model.predict(X_test)\n",
    "\n",
    "accuracy_rf = accuracy_score(y_test, y_pred_rf)\n",
    "precision_rf, recall_rf, f1_score_rf, _ = precision_recall_fscore_support(y_test, y_pred_rf, average='binary')\n",
    "\n",
    "print(f\"RandomForest Accuracy: {accuracy_rf:.4f}\")\n",
    "print(f\"RandomForest Precision: {precision_rf:.4f}\")\n",
    "print(f\"RandomForest Recall: {recall_rf:.4f}\")\n",
    "print(f\"RandomForest F1-score: {f1_score_rf:.4f}\")"
   ]
  },
  {
   "cell_type": "markdown",
   "metadata": {
    "id": "eb461dbd"
   },
   "source": [
    "### Key Findings\n",
    "\n",
    "* Categorical features ('gender', 'smoking\\_history') were successfully converted into numerical representations using one-hot encoding.\n",
    "* Numerical features ('age', 'bmi', 'HbA1c\\_level', 'blood\\_glucose\\_level') were scaled using StandardScaler.\n",
    "* The dataset was split into training (80%) and testing (20%) sets.\n",
    "* The training set showed a significant class imbalance, with approximately 91.6% non-diabetic and 8.4% diabetic cases.\n",
    "* Random Over-Sampling was applied to the training data, resulting in a balanced class distribution with approximately 50% for each class.\n",
    "* A Logistic Regression model was trained on the resampled training data, achieving an accuracy of 0.8893, precision of 0.4390, recall of 0.8885, and F1-score of 0.5877 on the test set.\n",
    "* A RandomForest Classifier model was trained on the resampled training data, achieving an accuracy of 0.9643, precision of 0.8598, recall of 0.7149, and F1-score of 0.7807 on the test set.\n",
    "\n",
    "### Insights\n",
    "\n",
    "* The RandomForest Classifier showed significant improvements in precision and F1-score compared to the Logistic Regression model, while maintaining a good accuracy.\n",
    "* The higher precision of the RandomForest model means fewer non-diabetic cases are incorrectly classified as diabetic, which is important in a medical context.\n",
    "* Further steps could include hyperparameter tuning for the RandomForest model, exploring other advanced models like Gradient Boosting, or analyzing feature importance to understand which features contribute most to the predictions."
   ]
  },
  {
   "cell_type": "code",
   "execution_count": 19,
   "metadata": {
    "colab": {
     "base_uri": "https://localhost:8080/"
    },
    "id": "d862f345",
    "outputId": "a5fd3bf8-52a3-40f7-af14-dafe3bbbb6db"
   },
   "outputs": [
    {
     "name": "stdout",
     "output_type": "stream",
     "text": [
      "Predictions for new data: [0 1]\n"
     ]
    }
   ],
   "source": [
    "# Example of new data (replace with your actual new data)\n",
    "new_data = pd.DataFrame({\n",
    "    'gender': ['Female', 'Male'],\n",
    "    'age': [30.0, 55.0],\n",
    "    'hypertension': [0, 1],\n",
    "    'heart_disease': [0, 0],\n",
    "    'smoking_history': ['never', 'former'],\n",
    "    'bmi': [22.0, 30.0],\n",
    "    'HbA1c_level': [5.5, 7.0],\n",
    "    'blood_glucose_level': [100, 180]\n",
    "})\n",
    "\n",
    "# Apply the same preprocessing steps as the training data\n",
    "\n",
    "# 1. Handle Categorical Features\n",
    "new_data_encoded = pd.get_dummies(new_data, columns=categorical_cols, drop_first=True)\n",
    "\n",
    "# Ensure new data has the same columns as the training data after one-hot encoding\n",
    "# Add missing columns with default value 0\n",
    "missing_cols = set(X_train.columns) - set(new_data_encoded.columns)\n",
    "for c in missing_cols:\n",
    "    new_data_encoded[c] = 0\n",
    "# Ensure the order of columns is the same\n",
    "new_data_encoded = new_data_encoded[X_train.columns]\n",
    "\n",
    "\n",
    "# 2. Scale Numerical Features using the *same* fitted scaler\n",
    "new_data_encoded[numerical_cols] = scaler.transform(new_data_encoded[numerical_cols])\n",
    "\n",
    "# 3. Predict using the trained RandomForest model\n",
    "predictions = rf_model.predict(new_data_encoded)\n",
    "\n",
    "print(\"Predictions for new data:\", predictions)"
   ]
  },
  {
   "cell_type": "markdown",
   "metadata": {
    "id": "ed21e9f0"
   },
   "source": [
    "## Analyze Feature Importance\n",
    "\n",
    "Determine the importance of each feature in the RandomForest model's predictions to understand which factors are most influential in predicting diabetes."
   ]
  },
  {
   "cell_type": "markdown",
   "metadata": {
    "id": "9f510e34"
   },
   "source": [
    "Get the feature importances from the trained RandomForest model and display them."
   ]
  },
  {
   "cell_type": "code",
   "execution_count": 20,
   "metadata": {
    "colab": {
     "base_uri": "https://localhost:8080/",
     "height": 639
    },
    "id": "c4fb9701",
    "outputId": "8ddb247c-d325-42f4-d911-7ad66abc257a"
   },
   "outputs": [
    {
     "name": "stdout",
     "output_type": "stream",
     "text": [
      "Feature Importances (RandomForest Model):\n",
      "HbA1c_level                    0.352054\n",
      "blood_glucose_level            0.273396\n",
      "age                            0.182684\n",
      "bmi                            0.121197\n",
      "hypertension                   0.028267\n",
      "heart_disease                  0.013596\n",
      "gender_Male                    0.007019\n",
      "smoking_history_former         0.006559\n",
      "smoking_history_never          0.005431\n",
      "smoking_history_current        0.003694\n",
      "smoking_history_not current    0.003333\n",
      "smoking_history_ever           0.002768\n",
      "dtype: float64\n"
     ]
    },
    {
     "data": {
      "image/png": "[encoded data removed]",
      "text/plain": [
       "<Figure size 1000x600 with 1 Axes>"
      ]
     },
     "metadata": {},
     "output_type": "display_data"
    }
   ],
   "source": [
    "import matplotlib.pyplot as plt\n",
    "import seaborn as sns\n",
    "\n",
    "# Get feature importances from the RandomForest model\n",
    "feature_importances = rf_model.feature_importances_\n",
    "\n",
    "# Get the names of the features\n",
    "feature_names = X_train.columns\n",
    "\n",
    "# Create a pandas Series for better visualization\n",
    "feature_importance_series = pd.Series(feature_importances, index=feature_names)\n",
    "\n",
    "# Sort the features by importance in descending order\n",
    "sorted_feature_importances = feature_importance_series.sort_values(ascending=False)\n",
    "\n",
    "# Print the sorted feature importances\n",
    "print(\"Feature Importances (RandomForest Model):\")\n",
    "print(sorted_feature_importances)\n",
    "\n",
    "# Optional: Visualize the feature importances\n",
    "plt.figure(figsize=(10, 6))\n",
    "sns.barplot(x=sorted_feature_importances, y=sorted_feature_importances.index)\n",
    "plt.title('Feature Importances from RandomForest Model')\n",
    "plt.xlabel('Importance')\n",
    "plt.ylabel('Feature')\n",
    "plt.show()"
   ]
  },
  {
   "cell_type": "markdown",
   "metadata": {
    "id": "xVdFW_ZvRwVa"
   },
   "source": [
    "Creating and saving the model."
   ]
  },
  {
   "cell_type": "code",
   "execution_count": 21,
   "metadata": {
    "colab": {
     "base_uri": "https://localhost:8080/"
    },
    "id": "-i0oIE-ER4Ja",
    "outputId": "d4d2d11f-abf9-445c-ab7a-2832ad8cecc2"
   },
   "outputs": [
    {
     "name": "stdout",
     "output_type": "stream",
     "text": [
      "Model saved to random_forest_diabetes_model.joblib\n"
     ]
    }
   ],
   "source": [
    "import joblib\n",
    "import os\n",
    "\n",
    "# Define the filename for your model\n",
    "model_filename = 'random_forest_diabetes_model.joblib'\n",
    "\n",
    "# Save the trained model to the file\n",
    "joblib.dump(rf_model, model_filename)\n",
    "\n",
    "print(f\"Model saved to {model_filename}\")"
   ]
  },
  {
   "cell_type": "markdown",
   "metadata": {
    "id": "6d06021f"
   },
   "source": [
    "## Create a Gradio Interface\n",
    "\n",
    "Build a web application using Gradio to allow users to input their information and get a diabetes prediction from the trained RandomForest model."
   ]
  },
  {
   "cell_type": "markdown",
   "metadata": {
    "id": "67043000"
   },
   "source": [
    "Import Gradio and define a prediction function that takes the same inputs as the model, preprocesses them, and returns the prediction. Then, create a Gradio interface using this function."
   ]
  },
  {
   "cell_type": "code",
   "execution_count": 22,
   "metadata": {
    "id": "221995d0"
   },
   "outputs": [
    {
     "name": "stdout",
     "output_type": "stream",
     "text": [
      "Note: you may need to restart the kernel to use updated packages.\n"
     ]
    }
   ],
   "source": [
    "pip install gradio -q"
   ]
  },
  {
   "cell_type": "code",
   "execution_count": 23,
   "metadata": {
    "colab": {
     "base_uri": "https://localhost:8080/",
     "height": 611
    },
    "id": "be9b4ed6",
    "outputId": "48ea4098-f15a-4e02-efe5-cf419575fae4"
   },
   "outputs": [
    {
     "name": "stdout",
     "output_type": "stream",
     "text": [
      "* Running on local URL:  http://127.0.0.1:7860\n",
      "* Running on public URL: https://c79b69856f3bb542f3.gradio.live\n",
      "\n",
      "This share link expires in 1 week. For free permanent hosting and GPU upgrades, run `gradio deploy` from the terminal in the working directory to deploy to Hugging Face Spaces (https://huggingface.co/spaces)\n"
     ]
    },
    {
     "data": {
      "text/html": [
       "<div><iframe src=\"https://c79b69856f3bb542f3.gradio.live\" width=\"100%\" height=\"500\" allow=\"autoplay; camera; microphone; clipboard-read; clipboard-write;\" frameborder=\"0\" allowfullscreen></iframe></div>"
      ],
      "text/plain": [
       "<IPython.core.display.HTML object>"
      ]
     },
     "metadata": {},
     "output_type": "display_data"
    },
    {
     "data": {
      "text/plain": []
     },
     "execution_count": 23,
     "metadata": {},
     "output_type": "execute_result"
    }
   ],
   "source": [
    "import gradio as gr\n",
    "import pandas as pd\n",
    "from sklearn.preprocessing import StandardScaler\n",
    "import joblib\n",
    "\n",
    "# Load the trained model and scaler\n",
    "# For this example, let's recreate a scaler based on the original data structure\n",
    "# In a real deployment,load the saved scaler\n",
    "dummy_data = pd.DataFrame({\n",
    "    'age': [40.0],\n",
    "    'bmi': [25.0],\n",
    "    'HbA1c_level': [5.0],\n",
    "    'blood_glucose_level': [100]\n",
    "})\n",
    "# Use the original numerical column names\n",
    "numerical_cols = ['age', 'bmi', 'HbA1c_level', 'blood_glucose_level']\n",
    "scaler = StandardScaler()\n",
    "# Fit on a dummy dataset with the correct structure\n",
    "scaler.fit(diabetes[numerical_cols])\n",
    "\n",
    "\n",
    "model = joblib.load('random_forest_diabetes_model.joblib')\n",
    "\n",
    "\n",
    "def predict_diabetes(gender, age, hypertension, heart_disease, smoking_history, bmi, hba1c_level, blood_glucose_level):\n",
    "    # Create a DataFrame from the inputs\n",
    "    new_data = pd.DataFrame({\n",
    "        'gender': [gender],\n",
    "        'age': [float(age)],\n",
    "        'hypertension': [int(hypertension)],\n",
    "        'heart_disease': [int(heart_disease)],\n",
    "        'smoking_history': [smoking_history],\n",
    "        'bmi': [float(bmi)],\n",
    "        'HbA1c_level': [float(hba1c_level)],\n",
    "        'blood_glucose_level': [int(blood_glucose_level)]\n",
    "    })\n",
    "\n",
    "    # Apply the same preprocessing steps as the training data\n",
    "\n",
    "    # 1. Handle Categorical Features (using the same columns as trained data)\n",
    "    categorical_cols = ['gender', 'smoking_history']\n",
    "    new_data_encoded = pd.get_dummies(new_data, columns=categorical_cols, drop_first=True)\n",
    "\n",
    "    # Ensure new data has the same columns as the training data after one-hot encoding\n",
    "    # Add missing columns with default value 0\n",
    "    # Use the columns from the training data (X_train) to ensure consistency\n",
    "    missing_cols = set(X_train.columns) - set(new_data_encoded.columns)\n",
    "    for c in missing_cols:\n",
    "        new_data_encoded[c] = 0\n",
    "    # Ensure the order of columns is the same\n",
    "    new_data_encoded = new_data_encoded[X_train.columns]\n",
    "\n",
    "\n",
    "    # 2. Scale Numerical Features using the *same* fitted scaler\n",
    "    new_data_encoded[numerical_cols] = scaler.transform(new_data_encoded[numerical_cols])\n",
    "\n",
    "    # 3. Predict using the trained RandomForest model\n",
    "    prediction = model.predict(new_data_encoded)\n",
    "\n",
    "    # Return the prediction result\n",
    "    if prediction[0] == 1:\n",
    "        return \"Prediction: Diabetes\"\n",
    "    else:\n",
    "        return \"Prediction: No Diabetes\"\n",
    "\n",
    "# Create the Gradio interface\n",
    "interface = gr.Interface(\n",
    "    fn=predict_diabetes,\n",
    "    inputs=[\n",
    "        gr.Radio(['Female', 'Male', 'Other'], label=\"Gender\"),\n",
    "        gr.Slider(minimum=0.08, maximum=80.0, label=\"Age\"),\n",
    "        gr.Radio([0, 1], label=\"Hypertension\"),\n",
    "        gr.Radio([0, 1], label=\"Heart Disease\"),\n",
    "        gr.Dropdown(['never', 'No Info', 'current', 'former', 'ever', 'not current'], label=\"Smoking History\"),\n",
    "        gr.Slider(minimum=10.01, maximum=95.69, label=\"BMI\"),\n",
    "        gr.Slider(minimum=3.5, maximum=9.0, label=\"HbA1c Level\"),\n",
    "        gr.Slider(minimum=80, maximum=300, label=\"Blood Glucose Level\")\n",
    "    ],\n",
    "    outputs=\"text\",\n",
    "    title=\"Diabetes Prediction Model\"\n",
    ")\n",
    "\n",
    "# Launch the interface\n",
    "interface.launch(share=True)"
   ]
  }
 ],
 "metadata": {
  "colab": {
   "provenance": []
  },
  "kernelspec": {
   "display_name": "Python 3 (ipykernel)",
   "language": "python",
   "name": "python3"
  },
  "language_info": {
   "codemirror_mode": {
    "name": "ipython",
    "version": 3
   },
   "file_extension": ".py",
   "mimetype": "text/x-python",
   "name": "python",
   "nbconvert_exporter": "python",
   "pygments_lexer": "ipython3",
   "version": "3.11.7"
  }
 },
 "nbformat": 4,
 "nbformat_minor": 4
}
